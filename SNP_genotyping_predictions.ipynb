{
 "cells": [
  {
   "cell_type": "markdown",
   "metadata": {},
   "source": [
    "# Workflow pipeline:\n",
    "\n",
    "1. Problem description, data characteristics, visualisation, distributions, etc.\n",
    "2. Preprocessing:\n",
    "    > missing data (delete, leave, imputation + explaination);\n",
    "    > normalization/standarization (type of transformation + description, transformation categorical data);\n",
    "    > separation - test and training sets (training/test, cross-validation, proportions of subsets);\n",
    "3. Building and training neural network:\n",
    "    > layers, neurons quantity; \n",
    "    > activation functions (+description, last layer should transform to binary output);\n",
    "    > optimalisation method (+description, which one returns best results);\n",
    "    > loss function and metrics (+description);\n",
    "    > model fitting (epochs number, batch size, model evaluation (training result));\n",
    "    > test set based classification (evaluation methods of binary classifier, including data type (should include just and only most desriptive metrics\n",
    "\n",
    "4. Additional methods not presented in labs/lectures.\n",
    "5. Present different parameters values, to decide, which ones caused accuracy and classification improvement."
   ]
  },
  {
   "cell_type": "code",
   "execution_count": null,
   "metadata": {},
   "outputs": [],
   "source": []
  }
 ],
 "metadata": {
  "kernelspec": {
   "display_name": "Python 3",
   "language": "python",
   "name": "python3"
  },
  "language_info": {
   "codemirror_mode": {
    "name": "ipython",
    "version": 3
   },
   "file_extension": ".py",
   "mimetype": "text/x-python",
   "name": "python",
   "nbconvert_exporter": "python",
   "pygments_lexer": "ipython3",
   "version": "3.7.4"
  }
 },
 "nbformat": 4,
 "nbformat_minor": 2
}
