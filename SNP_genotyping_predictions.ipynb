{
 "cells": [
  {
   "cell_type": "markdown",
   "metadata": {},
   "source": [
    "# 0. Workflow:\n",
    "\n",
    "1. Problem description, data characteristics, visualisation, distributions, etc.\n",
    "\n",
    "2. Preprocessing:\n",
    "   - missing data (delete, leave, imputation + explaination);\n",
    "   - normalization/standarization (type of transformation + description, transformation categorical data);\n",
    "   - separation - test and training sets (training/test, cross-validation, proportions of subsets);\n",
    "\n",
    "3. Building and training neural network:\n",
    "    - layers, neurons quantity; \n",
    "    - activation functions (+description, last layer should transform to binary output);\n",
    "    - optimalisation method (+description, which one returns best results);\n",
    "    - loss function and metrics (+description);\n",
    "    - model fitting (epochs number, batch size, model evaluation (training result));\n",
    "    - test set based classification (evaluation methods of binary classifier, including data type (should include just and only most desriptive metrics\n",
    "\n",
    "4. Additional methods not presented in labs/lectures.\n",
    "\n",
    "5. Present different parameters values, to decide, which ones caused accuracy and classification improvement."
   ]
  },
  {
   "cell_type": "code",
   "execution_count": 1,
   "metadata": {},
   "outputs": [
    {
     "name": "stderr",
     "output_type": "stream",
     "text": [
      "C:\\Users\\Acer\\AppData\\Local\\Continuum\\anaconda3\\lib\\site-packages\\sklearn\\utils\\deprecation.py:144: FutureWarning: The sklearn.metrics.classification module is  deprecated in version 0.22 and will be removed in version 0.24. The corresponding classes / functions should instead be imported from sklearn.metrics. Anything that cannot be imported from sklearn.metrics is now part of the private API.\n",
      "  warnings.warn(message, FutureWarning)\n",
      "Using TensorFlow backend.\n"
     ]
    }
   ],
   "source": [
    "import yellowbrick\n",
    "import tensorflow as tf\n",
    "import numpy as np\n",
    "import pandas as pd\n",
    "import matplotlib.pyplot as plt\n",
    "import matplotlib as mpl\n",
    "import scipy as sp\n",
    "import keras\n",
    "from sklearn.impute import SimpleImputer\n",
    "from sklearn.preprocessing import MinMaxScaler\n",
    "from sklearn.model_selection import train_test_split\n",
    "from sklearn.impute import SimpleImputer\n",
    "from keras.models import Sequential\n",
    "from keras.layers import Activation, Dense\n",
    "from keras import optimizers\n",
    "from scipy import stats\n",
    "from sklearn.metrics import confusion_matrix\n",
    "from sklearn.experimental import enable_iterative_imputer\n",
    "from sklearn.impute import IterativeImputer\n",
    "import seaborn as sns\n",
    "from keras import metrics as k_metrics\n",
    "from sklearn import metrics as s_metrics"
   ]
  },
  {
   "cell_type": "markdown",
   "metadata": {},
   "source": [
    "# 1. Problem description"
   ]
  },
  {
   "cell_type": "markdown",
   "metadata": {},
   "source": [
    "..."
   ]
  },
  {
   "cell_type": "markdown",
   "metadata": {},
   "source": [
    "# 2. Reading data using Pandas"
   ]
  },
  {
   "cell_type": "code",
   "execution_count": 2,
   "metadata": {},
   "outputs": [],
   "source": [
    "data = pd.read_csv(\"logreg.txt\", sep = \";\", dtype={'genotype': np.object})"
   ]
  },
  {
   "cell_type": "markdown",
   "metadata": {},
   "source": [
    "# 3. Data characteristics"
   ]
  },
  {
   "cell_type": "code",
   "execution_count": 3,
   "metadata": {},
   "outputs": [],
   "source": [
    "# data.head()\n",
    "# data.shape\n",
    "# print(data.dtypes)\n",
    "\n",
    "# data.BEFORE1.value_counts()\n",
    "# data.BEFORE2.value_counts()\n",
    "# data.BEFORE3.value_counts()\n",
    "\n",
    "# data.BEHIND1.value_counts()\n",
    "# data.BEHIND2.value_counts()\n",
    "# data.BEHIND3.value_counts()\n",
    "\n",
    "# descriptions_dataframe = data.describe(include='all')\n",
    "# nulls = data.isnull().sum().to_frame(name='NA').T \n",
    "# summary_of_nulls = pd.concat([descriptions_dataframe, nulls])\n",
    "# summary_of_nulls\n",
    "\n",
    "# data.iloc[:,6:].apply(pd.value_counts)"
   ]
  },
  {
   "cell_type": "markdown",
   "metadata": {},
   "source": [
    "# 4. Data visualisation"
   ]
  },
  {
   "cell_type": "code",
   "execution_count": 4,
   "metadata": {},
   "outputs": [],
   "source": [
    "# dims = (15.2, 10.75)\n",
    "# fig, ax = plt.subplots(figsize=dims)\n",
    "\n",
    "# bpl = sns.boxplot(\n",
    "#     data=data,\n",
    "#     x='genotype',\n",
    "#     y='CALL',\n",
    "# )\n",
    "\n",
    "# bpl.figure.savefig(r\"C:\\Users\\Acer\\Desktop\\Studia\\Deep learning\\project\\SNP-predictions\\boxplots\\boxplot_genotype_CALL.png\")\n"
   ]
  },
  {
   "cell_type": "markdown",
   "metadata": {},
   "source": [
    "# 5. Preprocessing"
   ]
  },
  {
   "cell_type": "markdown",
   "metadata": {},
   "source": [
    "## 5.1. Creating triplets - we can't analyse categorical data (nucleotides: A, T, G, C, N), so we must find numerical representation."
   ]
  },
  {
   "cell_type": "code",
   "execution_count": 5,
   "metadata": {},
   "outputs": [
    {
     "data": {
      "text/html": [
       "<div>\n",
       "<style scoped>\n",
       "    .dataframe tbody tr th:only-of-type {\n",
       "        vertical-align: middle;\n",
       "    }\n",
       "\n",
       "    .dataframe tbody tr th {\n",
       "        vertical-align: top;\n",
       "    }\n",
       "\n",
       "    .dataframe thead th {\n",
       "        text-align: right;\n",
       "    }\n",
       "</style>\n",
       "<table border=\"1\" class=\"dataframe\">\n",
       "  <thead>\n",
       "    <tr style=\"text-align: right;\">\n",
       "      <th></th>\n",
       "      <th>genotype</th>\n",
       "      <th>QUAL</th>\n",
       "      <th>DP</th>\n",
       "      <th>DP2</th>\n",
       "      <th>GQ</th>\n",
       "      <th>CALL</th>\n",
       "      <th>BEFORE_AAA</th>\n",
       "      <th>BEFORE_AAC</th>\n",
       "      <th>BEFORE_AAG</th>\n",
       "      <th>BEFORE_AAT</th>\n",
       "      <th>...</th>\n",
       "      <th>BEHIND_TCG</th>\n",
       "      <th>BEHIND_TCT</th>\n",
       "      <th>BEHIND_TGA</th>\n",
       "      <th>BEHIND_TGC</th>\n",
       "      <th>BEHIND_TGG</th>\n",
       "      <th>BEHIND_TGT</th>\n",
       "      <th>BEHIND_TTA</th>\n",
       "      <th>BEHIND_TTC</th>\n",
       "      <th>BEHIND_TTG</th>\n",
       "      <th>BEHIND_TTT</th>\n",
       "    </tr>\n",
       "  </thead>\n",
       "  <tbody>\n",
       "    <tr>\n",
       "      <td>0</td>\n",
       "      <td>1</td>\n",
       "      <td>87093</td>\n",
       "      <td>74</td>\n",
       "      <td>50.0</td>\n",
       "      <td>63.0</td>\n",
       "      <td>3</td>\n",
       "      <td>0</td>\n",
       "      <td>0</td>\n",
       "      <td>0</td>\n",
       "      <td>0</td>\n",
       "      <td>...</td>\n",
       "      <td>0</td>\n",
       "      <td>0</td>\n",
       "      <td>0</td>\n",
       "      <td>0</td>\n",
       "      <td>0</td>\n",
       "      <td>0</td>\n",
       "      <td>0</td>\n",
       "      <td>0</td>\n",
       "      <td>0</td>\n",
       "      <td>0</td>\n",
       "    </tr>\n",
       "    <tr>\n",
       "      <td>1</td>\n",
       "      <td>1</td>\n",
       "      <td>56419</td>\n",
       "      <td>64</td>\n",
       "      <td>9.0</td>\n",
       "      <td>100.0</td>\n",
       "      <td>3</td>\n",
       "      <td>0</td>\n",
       "      <td>0</td>\n",
       "      <td>0</td>\n",
       "      <td>0</td>\n",
       "      <td>...</td>\n",
       "      <td>0</td>\n",
       "      <td>0</td>\n",
       "      <td>0</td>\n",
       "      <td>0</td>\n",
       "      <td>0</td>\n",
       "      <td>0</td>\n",
       "      <td>0</td>\n",
       "      <td>0</td>\n",
       "      <td>0</td>\n",
       "      <td>0</td>\n",
       "    </tr>\n",
       "    <tr>\n",
       "      <td>2</td>\n",
       "      <td>1</td>\n",
       "      <td>40180</td>\n",
       "      <td>68</td>\n",
       "      <td>48.0</td>\n",
       "      <td>NaN</td>\n",
       "      <td>2</td>\n",
       "      <td>0</td>\n",
       "      <td>0</td>\n",
       "      <td>0</td>\n",
       "      <td>0</td>\n",
       "      <td>...</td>\n",
       "      <td>0</td>\n",
       "      <td>0</td>\n",
       "      <td>0</td>\n",
       "      <td>0</td>\n",
       "      <td>0</td>\n",
       "      <td>0</td>\n",
       "      <td>0</td>\n",
       "      <td>0</td>\n",
       "      <td>0</td>\n",
       "      <td>0</td>\n",
       "    </tr>\n",
       "    <tr>\n",
       "      <td>3</td>\n",
       "      <td>1</td>\n",
       "      <td>33677</td>\n",
       "      <td>57</td>\n",
       "      <td>48.0</td>\n",
       "      <td>3.0</td>\n",
       "      <td>3</td>\n",
       "      <td>0</td>\n",
       "      <td>0</td>\n",
       "      <td>0</td>\n",
       "      <td>0</td>\n",
       "      <td>...</td>\n",
       "      <td>0</td>\n",
       "      <td>0</td>\n",
       "      <td>0</td>\n",
       "      <td>0</td>\n",
       "      <td>0</td>\n",
       "      <td>0</td>\n",
       "      <td>0</td>\n",
       "      <td>0</td>\n",
       "      <td>0</td>\n",
       "      <td>0</td>\n",
       "    </tr>\n",
       "    <tr>\n",
       "      <td>4</td>\n",
       "      <td>1</td>\n",
       "      <td>78396</td>\n",
       "      <td>51</td>\n",
       "      <td>50.0</td>\n",
       "      <td>21.0</td>\n",
       "      <td>5</td>\n",
       "      <td>0</td>\n",
       "      <td>0</td>\n",
       "      <td>0</td>\n",
       "      <td>1</td>\n",
       "      <td>...</td>\n",
       "      <td>0</td>\n",
       "      <td>0</td>\n",
       "      <td>0</td>\n",
       "      <td>0</td>\n",
       "      <td>0</td>\n",
       "      <td>0</td>\n",
       "      <td>0</td>\n",
       "      <td>0</td>\n",
       "      <td>0</td>\n",
       "      <td>0</td>\n",
       "    </tr>\n",
       "    <tr>\n",
       "      <td>...</td>\n",
       "      <td>...</td>\n",
       "      <td>...</td>\n",
       "      <td>...</td>\n",
       "      <td>...</td>\n",
       "      <td>...</td>\n",
       "      <td>...</td>\n",
       "      <td>...</td>\n",
       "      <td>...</td>\n",
       "      <td>...</td>\n",
       "      <td>...</td>\n",
       "      <td>...</td>\n",
       "      <td>...</td>\n",
       "      <td>...</td>\n",
       "      <td>...</td>\n",
       "      <td>...</td>\n",
       "      <td>...</td>\n",
       "      <td>...</td>\n",
       "      <td>...</td>\n",
       "      <td>...</td>\n",
       "      <td>...</td>\n",
       "      <td>...</td>\n",
       "    </tr>\n",
       "    <tr>\n",
       "      <td>2294146</td>\n",
       "      <td>1</td>\n",
       "      <td>33203</td>\n",
       "      <td>93</td>\n",
       "      <td>1.0</td>\n",
       "      <td>NaN</td>\n",
       "      <td>2</td>\n",
       "      <td>0</td>\n",
       "      <td>0</td>\n",
       "      <td>0</td>\n",
       "      <td>0</td>\n",
       "      <td>...</td>\n",
       "      <td>0</td>\n",
       "      <td>0</td>\n",
       "      <td>0</td>\n",
       "      <td>0</td>\n",
       "      <td>0</td>\n",
       "      <td>0</td>\n",
       "      <td>0</td>\n",
       "      <td>0</td>\n",
       "      <td>0</td>\n",
       "      <td>0</td>\n",
       "    </tr>\n",
       "    <tr>\n",
       "      <td>2294147</td>\n",
       "      <td>1</td>\n",
       "      <td>34073</td>\n",
       "      <td>126</td>\n",
       "      <td>12.0</td>\n",
       "      <td>NaN</td>\n",
       "      <td>2</td>\n",
       "      <td>0</td>\n",
       "      <td>0</td>\n",
       "      <td>0</td>\n",
       "      <td>0</td>\n",
       "      <td>...</td>\n",
       "      <td>0</td>\n",
       "      <td>0</td>\n",
       "      <td>0</td>\n",
       "      <td>0</td>\n",
       "      <td>0</td>\n",
       "      <td>1</td>\n",
       "      <td>0</td>\n",
       "      <td>0</td>\n",
       "      <td>0</td>\n",
       "      <td>0</td>\n",
       "    </tr>\n",
       "    <tr>\n",
       "      <td>2294148</td>\n",
       "      <td>1</td>\n",
       "      <td>32575</td>\n",
       "      <td>115</td>\n",
       "      <td>1.0</td>\n",
       "      <td>NaN</td>\n",
       "      <td>2</td>\n",
       "      <td>0</td>\n",
       "      <td>0</td>\n",
       "      <td>0</td>\n",
       "      <td>0</td>\n",
       "      <td>...</td>\n",
       "      <td>0</td>\n",
       "      <td>0</td>\n",
       "      <td>0</td>\n",
       "      <td>0</td>\n",
       "      <td>0</td>\n",
       "      <td>1</td>\n",
       "      <td>0</td>\n",
       "      <td>0</td>\n",
       "      <td>0</td>\n",
       "      <td>0</td>\n",
       "    </tr>\n",
       "    <tr>\n",
       "      <td>2294149</td>\n",
       "      <td>1</td>\n",
       "      <td>37270</td>\n",
       "      <td>13</td>\n",
       "      <td>23.0</td>\n",
       "      <td>NaN</td>\n",
       "      <td>2</td>\n",
       "      <td>0</td>\n",
       "      <td>0</td>\n",
       "      <td>0</td>\n",
       "      <td>0</td>\n",
       "      <td>...</td>\n",
       "      <td>0</td>\n",
       "      <td>0</td>\n",
       "      <td>0</td>\n",
       "      <td>0</td>\n",
       "      <td>0</td>\n",
       "      <td>0</td>\n",
       "      <td>0</td>\n",
       "      <td>0</td>\n",
       "      <td>0</td>\n",
       "      <td>0</td>\n",
       "    </tr>\n",
       "    <tr>\n",
       "      <td>2294150</td>\n",
       "      <td>1</td>\n",
       "      <td>32761</td>\n",
       "      <td>115</td>\n",
       "      <td>1.0</td>\n",
       "      <td>NaN</td>\n",
       "      <td>2</td>\n",
       "      <td>0</td>\n",
       "      <td>0</td>\n",
       "      <td>0</td>\n",
       "      <td>0</td>\n",
       "      <td>...</td>\n",
       "      <td>0</td>\n",
       "      <td>0</td>\n",
       "      <td>0</td>\n",
       "      <td>0</td>\n",
       "      <td>0</td>\n",
       "      <td>0</td>\n",
       "      <td>0</td>\n",
       "      <td>0</td>\n",
       "      <td>0</td>\n",
       "      <td>0</td>\n",
       "    </tr>\n",
       "  </tbody>\n",
       "</table>\n",
       "<p>2294151 rows × 136 columns</p>\n",
       "</div>"
      ],
      "text/plain": [
       "        genotype   QUAL   DP   DP2     GQ  CALL  BEFORE_AAA  BEFORE_AAC  \\\n",
       "0              1  87093   74  50.0   63.0     3           0           0   \n",
       "1              1  56419   64   9.0  100.0     3           0           0   \n",
       "2              1  40180   68  48.0    NaN     2           0           0   \n",
       "3              1  33677   57  48.0    3.0     3           0           0   \n",
       "4              1  78396   51  50.0   21.0     5           0           0   \n",
       "...          ...    ...  ...   ...    ...   ...         ...         ...   \n",
       "2294146        1  33203   93   1.0    NaN     2           0           0   \n",
       "2294147        1  34073  126  12.0    NaN     2           0           0   \n",
       "2294148        1  32575  115   1.0    NaN     2           0           0   \n",
       "2294149        1  37270   13  23.0    NaN     2           0           0   \n",
       "2294150        1  32761  115   1.0    NaN     2           0           0   \n",
       "\n",
       "         BEFORE_AAG  BEFORE_AAT  ...  BEHIND_TCG  BEHIND_TCT  BEHIND_TGA  \\\n",
       "0                 0           0  ...           0           0           0   \n",
       "1                 0           0  ...           0           0           0   \n",
       "2                 0           0  ...           0           0           0   \n",
       "3                 0           0  ...           0           0           0   \n",
       "4                 0           1  ...           0           0           0   \n",
       "...             ...         ...  ...         ...         ...         ...   \n",
       "2294146           0           0  ...           0           0           0   \n",
       "2294147           0           0  ...           0           0           0   \n",
       "2294148           0           0  ...           0           0           0   \n",
       "2294149           0           0  ...           0           0           0   \n",
       "2294150           0           0  ...           0           0           0   \n",
       "\n",
       "         BEHIND_TGC  BEHIND_TGG  BEHIND_TGT  BEHIND_TTA  BEHIND_TTC  \\\n",
       "0                 0           0           0           0           0   \n",
       "1                 0           0           0           0           0   \n",
       "2                 0           0           0           0           0   \n",
       "3                 0           0           0           0           0   \n",
       "4                 0           0           0           0           0   \n",
       "...             ...         ...         ...         ...         ...   \n",
       "2294146           0           0           0           0           0   \n",
       "2294147           0           0           1           0           0   \n",
       "2294148           0           0           1           0           0   \n",
       "2294149           0           0           0           0           0   \n",
       "2294150           0           0           0           0           0   \n",
       "\n",
       "         BEHIND_TTG  BEHIND_TTT  \n",
       "0                 0           0  \n",
       "1                 0           0  \n",
       "2                 0           0  \n",
       "3                 0           0  \n",
       "4                 0           0  \n",
       "...             ...         ...  \n",
       "2294146           0           0  \n",
       "2294147           0           0  \n",
       "2294148           0           0  \n",
       "2294149           0           0  \n",
       "2294150           0           0  \n",
       "\n",
       "[2294151 rows x 136 columns]"
      ]
     },
     "execution_count": 5,
     "metadata": {},
     "output_type": "execute_result"
    }
   ],
   "source": [
    "tmp = pd.DataFrame()\n",
    "tmp['BEFORE'] = data.BEFORE1 + data.BEFORE2 + data.BEFORE3\n",
    "tmp['BEHIND'] = data.BEHIND1 + data.BEHIND2 + data.BEHIND3\n",
    "data = data.drop(columns=['BEFORE1', 'BEFORE2', 'BEFORE3', 'BEHIND1', 'BEHIND2', 'BEHIND3'])\n",
    "\n",
    "tmp = pd.get_dummies(tmp)\n",
    "data = pd.concat([data, tmp], axis=1)"
   ]
  },
  {
   "cell_type": "markdown",
   "metadata": {},
   "source": [
    "### 5.2. Histograms to check distributions"
   ]
  },
  {
   "cell_type": "code",
   "execution_count": 6,
   "metadata": {
    "scrolled": true
   },
   "outputs": [],
   "source": [
    "# dims = (15.2, 10.75)\n",
    "# fig, ax = plt.subplots(figsize=dims)\n",
    "# sns_plot = sns.distplot(data['GQ'], ax = ax, hist=True, kde=True, \n",
    "#              bins=int(180/5), color = 'darkblue', \n",
    "#              hist_kws={'edgecolor':'black'},\n",
    "#              kde_kws={'linewidth': 4})\n",
    "\n",
    "# sns_plot.figure.savefig(r\"C:\\Users\\Acer\\Desktop\\Programs\\Python\\Deep learning\\project\\SNP-predictions\\Distribution plots\\dist_GQ.png\")\n"
   ]
  },
  {
   "cell_type": "markdown",
   "metadata": {},
   "source": [
    "## 5.3. Split - training and test set"
   ]
  },
  {
   "cell_type": "code",
   "execution_count": 7,
   "metadata": {},
   "outputs": [
    {
     "name": "stdout",
     "output_type": "stream",
     "text": [
      "(1376490, 135)\n",
      "(917661, 135)\n"
     ]
    }
   ],
   "source": [
    "X = data.iloc[:, 1:]\n",
    "y = data.iloc[:, 0]\n",
    "\n",
    "X_train, X_test, y_train, y_test = train_test_split(X, y, test_size=0.4, random_state=42, stratify=y)"
   ]
  },
  {
   "cell_type": "markdown",
   "metadata": {},
   "source": [
    "## 5.4. Missing data handling - imputation using kNN algorithm, Iterative Imputer, Simple Imputer"
   ]
  },
  {
   "cell_type": "markdown",
   "metadata": {},
   "source": [
    "### KNN Imputer - hardware issues"
   ]
  },
  {
   "cell_type": "code",
   "execution_count": 9,
   "metadata": {},
   "outputs": [],
   "source": [
    "# from sklearn.impute import KNNImputer\n",
    "# imputer = KNNImputer(n_neighbors=5, weights=\"uniform\")\n",
    "# imputer.fit_transform(X_train_to_impute)"
   ]
  },
  {
   "cell_type": "markdown",
   "metadata": {},
   "source": [
    "### Iterative Imputer"
   ]
  },
  {
   "cell_type": "code",
   "execution_count": 10,
   "metadata": {},
   "outputs": [],
   "source": [
    "# imp = IterativeImputer(max_iter=10, random_state=0)\n",
    "# imp.fit(X_train_to_impute)\n",
    "# IterativeImputer(random_state=0)\n",
    "# Iterative_DataFrame = pd.DataFrame(imp.transform(X_train_to_impute))"
   ]
  },
  {
   "cell_type": "markdown",
   "metadata": {},
   "source": [
    "### Simple Imputer - mean"
   ]
  },
  {
   "cell_type": "code",
   "execution_count": 11,
   "metadata": {},
   "outputs": [],
   "source": [
    "imp_mean = SimpleImputer(strategy='mean')\n",
    "imp_mean.fit(X_train)\n",
    "X_train = pd.DataFrame(imp_mean.transform(X_train), columns=X_train.columns)\n",
    "X_test = pd.DataFrame(imp_mean.transform(X_test), columns=X_train.columns)"
   ]
  },
  {
   "cell_type": "markdown",
   "metadata": {},
   "source": [
    "### Simple Imputer - median"
   ]
  },
  {
   "cell_type": "code",
   "execution_count": 12,
   "metadata": {},
   "outputs": [],
   "source": [
    "# imp_median = SimpleImputer(strategy='median')\n",
    "# imp_median.fit(X_train_to_impute)\n",
    "# Median_DataFrame = pd.DataFrame(imp_median.transform(X_train_to_impute))"
   ]
  },
  {
   "cell_type": "markdown",
   "metadata": {},
   "source": [
    "## 6. Standarization - change the values so that the distribution standard deviation from the mean equals one."
   ]
  },
  {
   "cell_type": "markdown",
   "metadata": {},
   "source": [
    "## 6.1. Standarize - MinMaxScaler"
   ]
  },
  {
   "cell_type": "code",
   "execution_count": 13,
   "metadata": {},
   "outputs": [],
   "source": [
    "# m_scaler = MinMaxScaler()\n",
    "# m_scaler.fit(Iterative_DataFrame)\n",
    "# m_scaler.transform(Iterative_DataFrame)\n",
    "# X_train_Iterative = pd.DataFrame(m_scaler.transform(Iterative_DataFrame))\n",
    "\n",
    "m_scaler = MinMaxScaler()\n",
    "m_scaler.fit(X_train)\n",
    "m_scaler.transform(X_train)\n",
    "X_train = pd.DataFrame(m_scaler.transform(X_train), columns=X_train.columns)\n",
    "\n",
    "m_scaler = MinMaxScaler()\n",
    "m_scaler.fit(X_test)\n",
    "m_scaler.transform(X_test)\n",
    "X_test = pd.DataFrame(m_scaler.transform(X_test), columns=X_train.columns)\n",
    "\n",
    "# m_scaler = MinMaxScaler()\n",
    "# m_scaler.fit(Median_DataFrame)\n",
    "# X_train_Median = pd.DataFrame(m_scaler.transform(Median_DataFrame))\n",
    "\n",
    "# print(X_train_Iterative.shape)\n",
    "# print(X_train_Median.shape)"
   ]
  },
  {
   "cell_type": "markdown",
   "metadata": {},
   "source": [
    "# 7. Building neural network"
   ]
  },
  {
   "cell_type": "code",
   "execution_count": 14,
   "metadata": {},
   "outputs": [
    {
     "name": "stdout",
     "output_type": "stream",
     "text": [
      "Train on 1376490 samples, validate on 10000 samples\n",
      "Epoch 1/1\n",
      "1376490/1376490 [==============================] - 26s 19us/step - loss: 0.1249 - binary_accuracy: 0.9725 - mean_absolute_error: 0.0577 - top_k_categorical_accuracy: 1.0000 - val_loss: 0.0997 - val_binary_accuracy: 0.9780 - val_mean_absolute_error: 0.0441 - val_top_k_categorical_accuracy: 1.0000\n"
     ]
    }
   ],
   "source": [
    "model = Sequential()\n",
    "\n",
    "model.add(Dense(20, input_shape = (135,), activation = 'relu'))\n",
    "model.add(Dense(100, activation = 'relu'))\n",
    "model.add(Dense(64, activation = 'relu'))\n",
    "model.add(Dense(32, activation = 'relu'))\n",
    "model.add(Dense(16, activation = 'relu'))\n",
    "model.add(Dense(8, activation = 'relu'))\n",
    "model.add(Dense(4, activation = 'relu'))\n",
    "model.add(Dense(1, activation = 'sigmoid'))\n",
    "\n",
    "model.compile(optimizer='adam',\n",
    "              loss='binary_crossentropy',\n",
    "              metrics=[k_metrics.mae,\n",
    "                       'loss',\n",
    "                       'accuracy',\n",
    "                      ])\n",
    "\n",
    "X_val = X_train[:10000]\n",
    "y_val = y_train[:10000]\n",
    "\n",
    "history = model.fit(X_train,\n",
    "                    y_train,\n",
    "                    epochs=40,\n",
    "                    batch_size=512,\n",
    "                    validation_data=(X_val, y_val))"
   ]
  },
  {
   "cell_type": "code",
   "execution_count": 15,
   "metadata": {},
   "outputs": [],
   "source": [
    "history_dict = history.history\n",
    "print(history_dict.keys())\n",
    "\n",
    "# loss_values = history_dict['loss']\n",
    "# val_loss_values = history_dict['val_loss']\n",
    "\n",
    "# epochs = range(1, len(loss_values) + 1)\n",
    "\n",
    "# plt.plot(epochs, loss_values, 'bo', label='Training loss')\n",
    "# plt.plot(epochs, val_loss_values, 'b', label='Validation loss')\n",
    "\n",
    "# plt.title('Training and validation loss')\n",
    "# plt.xlabel('Epochs')\n",
    "# plt.ylabel('Loss')\n",
    "\n",
    "# plt.legend()\n",
    "# plt.show()"
   ]
  },
  {
   "cell_type": "code",
   "execution_count": 16,
   "metadata": {},
   "outputs": [],
   "source": [
    "# plt.clf()\n",
    "# # print(history_dict.keys())\n",
    "# acc = history_dict['binary_accuracy']\n",
    "# val_acc = history_dict['val_binary_accuracy']\n",
    "\n",
    "\n",
    "# plt.plot(epochs, acc, 'bo', label='Training binary accuracy')\n",
    "# plt.plot(epochs, val_acc, 'b', label='Binary validation accuracy')\n",
    "\n",
    "# plt.title('Training and validation binary accuracy')\n",
    "# plt.xlabel('Epochs')\n",
    "# plt.ylabel('Accuracy')\n",
    "\n",
    "# plt.legend()\n",
    "# plt.show()"
   ]
  },
  {
   "cell_type": "code",
   "execution_count": 17,
   "metadata": {},
   "outputs": [
    {
     "name": "stdout",
     "output_type": "stream",
     "text": [
      "917661/917661 [==============================] - 37s 41us/step\n"
     ]
    },
    {
     "data": {
      "text/plain": [
       "[0.10032972669211035, 0.9778392910957336, 0.04380548745393753, 1.0]"
      ]
     },
     "execution_count": 17,
     "metadata": {},
     "output_type": "execute_result"
    }
   ],
   "source": [
    "results = model.evaluate(X_test, y_test)\n",
    "results"
   ]
  },
  {
   "cell_type": "code",
   "execution_count": 18,
   "metadata": {},
   "outputs": [
    {
     "name": "stdout",
     "output_type": "stream",
     "text": [
      "[0 1 1 ... 1 1 1]\n"
     ]
    }
   ],
   "source": [
    "from sklearn.metrics import confusion_matrix, classification_report\n",
    "from sklearn.metrics import roc_curve\n",
    "\n",
    "def predict_cls(arr, threshold):\n",
    "    \"\"\"\n",
    "    Predicting classes based on given probability threshold\n",
    "    \"\"\"\n",
    "    predicted = [0 if probability < threshold else 1 for probability in arr]\n",
    "    return predicted\n",
    "\n",
    "y_test = y_test.astype(int).to_numpy()"
   ]
  },
  {
   "cell_type": "code",
   "execution_count": 28,
   "metadata": {},
   "outputs": [
    {
     "name": "stdout",
     "output_type": "stream",
     "text": [
      "[[  9571  20335]\n",
      " [     1 887754]]\n"
     ]
    },
    {
     "data": {
      "image/png": "[encoded data removed]",
      "text/plain": [
       "<Figure size 432x288 with 1 Axes>"
      ]
     },
     "metadata": {
      "needs_background": "light"
     },
     "output_type": "display_data"
    }
   ],
   "source": [
    "from sklearn import metrics\n",
    "\n",
    "my_y_pred = predict_cls(model.predict(X_test), 0.5)\n",
    "y_pred = model.predict(X_test)\n",
    "conf_mat = confusion_matrix(y_test, my_y_pred)\n",
    "print(conf_mat)\n",
    "\n",
    "# tp = conf_mat[0][0]\n",
    "# tn = conf_mat[1][1]\n",
    "# fp = conf_mat[0][1]\n",
    "# fn = conf_mat[1][0]\n",
    "\n",
    "# TPR = tp / (tp + fn)\n",
    "# FPR = fp / (fp + fn)\n",
    "\n",
    "fpr, tpr, threshold = metrics.roc_curve(y_test, y_pred)\n",
    "roc_auc = metrics.auc(fpr, tpr)\n"
   ]
  },
  {
   "cell_type": "code",
   "execution_count": null,
   "metadata": {},
   "outputs": [],
   "source": []
  },
  {
   "cell_type": "code",
   "execution_count": 21,
   "metadata": {},
   "outputs": [],
   "source": []
  }
 ],
 "metadata": {
  "kernelspec": {
   "display_name": "Python 3",
   "language": "python",
   "name": "python3"
  },
  "language_info": {
   "codemirror_mode": {
    "name": "ipython",
    "version": 3
   },
   "file_extension": ".py",
   "mimetype": "text/x-python",
   "name": "python",
   "nbconvert_exporter": "python",
   "pygments_lexer": "ipython3",
   "version": "3.7.4"
  }
 },
 "nbformat": 4,
 "nbformat_minor": 2
}
