{
 "cells": [
  {
   "cell_type": "markdown",
   "metadata": {},
   "source": [
    "# Workflow:\n",
    "\n",
    "1. Problem description, data characteristics, visualisation, distributions, etc.\n",
    "\n",
    "2. Preprocessing:\n",
    "   - missing data (delete, leave, imputation + explaination);\n",
    "   - normalization/standarization (type of transformation + description, transformation categorical data);\n",
    "   - separation - test and training sets (training/test, cross-validation, proportions of subsets);\n",
    "\n",
    "3. Building and training neural network:\n",
    "    - layers, neurons quantity; \n",
    "    - activation functions (+description, last layer should transform to binary output);\n",
    "    - optimalisation method (+description, which one returns best results);\n",
    "    - loss function and metrics (+description);\n",
    "    - model fitting (epochs number, batch size, model evaluation (training result));\n",
    "    - test set based classification (evaluation methods of binary classifier, including data type (should include just and only most desriptive metrics\n",
    "\n",
    "4. Additional methods not presented in labs/lectures.\n",
    "\n",
    "5. Present different parameters values, to decide, which ones caused accuracy and classification improvement."
   ]
  },
  {
   "cell_type": "code",
   "execution_count": 1,
   "metadata": {},
   "outputs": [
    {
     "name": "stderr",
     "output_type": "stream",
     "text": [
      "Using TensorFlow backend.\n"
     ]
    }
   ],
   "source": [
    "import tensorflow as tf\n",
    "import numpy as np\n",
    "import pandas as pd\n",
    "import matplotlib.pyplot as plt\n",
    "import matplotlib as mpl\n",
    "import scipy as sp\n",
    "import keras"
   ]
  },
  {
   "cell_type": "markdown",
   "metadata": {},
   "source": [
    "# Problem description"
   ]
  },
  {
   "cell_type": "markdown",
   "metadata": {},
   "source": [
    "..."
   ]
  },
  {
   "cell_type": "markdown",
   "metadata": {},
   "source": [
    "# Reading data using Pandas"
   ]
  },
  {
   "cell_type": "code",
   "execution_count": 62,
   "metadata": {},
   "outputs": [],
   "source": [
    "data = pd.read_csv(\"logreg.txt\", sep = \";\", dtype={'genotype': np.object})"
   ]
  },
  {
   "cell_type": "markdown",
   "metadata": {},
   "source": [
    "# Data characteristics"
   ]
  },
  {
   "cell_type": "code",
   "execution_count": 63,
   "metadata": {},
   "outputs": [],
   "source": [
    "# data.head()\n",
    "# data.shape\n",
    "# print(data.dtypes)\n",
    "\n",
    "# data.BEFORE1.value_counts()\n",
    "# data.BEFORE2.value_counts()\n",
    "# data.BEFORE3.value_counts()\n",
    "\n",
    "# data.BEHIND1.value_counts()\n",
    "# data.BEHIND2.value_counts()\n",
    "# data.BEHIND3.value_counts()\n",
    "\n",
    "# descriptions_dataframe = data.describe(include='all')\n",
    "# nulls = data.isnull().sum().to_frame(name='NA').T \n",
    "# summary_of_nulls = pd.concat([descriptions_dataframe, nulls])\n",
    "# summary_of_nulls\n",
    "\n",
    "# data.iloc[:,6:].apply(pd.value_counts)"
   ]
  },
  {
   "cell_type": "markdown",
   "metadata": {},
   "source": [
    "# Data visualisation"
   ]
  },
  {
   "cell_type": "code",
   "execution_count": 64,
   "metadata": {},
   "outputs": [],
   "source": [
    "# data.hist()"
   ]
  },
  {
   "cell_type": "markdown",
   "metadata": {},
   "source": [
    "# Distributions"
   ]
  },
  {
   "cell_type": "code",
   "execution_count": null,
   "metadata": {},
   "outputs": [],
   "source": []
  },
  {
   "cell_type": "markdown",
   "metadata": {},
   "source": [
    "# Preprocessing"
   ]
  },
  {
   "cell_type": "code",
   "execution_count": null,
   "metadata": {},
   "outputs": [
    {
     "name": "stderr",
     "output_type": "stream",
     "text": [
      "C:\\Users\\Acer\\AppData\\Local\\Continuum\\anaconda3\\lib\\site-packages\\ipykernel_launcher.py:10: FutureWarning: Sorting because non-concatenation axis is not aligned. A future version\n",
      "of pandas will change to not sort by default.\n",
      "\n",
      "To accept the future behavior, pass 'sort=False'.\n",
      "\n",
      "To retain the current behavior and silence the warning, pass 'sort=True'.\n",
      "\n",
      "  # Remove the CWD from sys.path while we load stuff.\n"
     ]
    }
   ],
   "source": [
    "tmp['BEFORE'] = data.BEFORE1 + data.BEFORE2 + data.BEFORE3\n",
    "tmp['BEHIND'] = data.BEHIND1 + data.BEHIND2 + data.BEHIND3\n",
    "data = data.drop(columns=['BEFORE1', 'BEFORE2', 'BEFORE3', 'BEHIND1', 'BEHIND2', 'BEHIND3'])\n",
    "\n",
    "data.head()\n",
    "tmp.head()\n",
    "\n",
    "dummies = pd.get_dummies(tmp)\n",
    "\n",
    "data = pd.concat([data, dummies])\n",
    "data.head()"
   ]
  },
  {
   "cell_type": "code",
   "execution_count": null,
   "metadata": {},
   "outputs": [],
   "source": []
  }
 ],
 "metadata": {
  "kernelspec": {
   "display_name": "Python 3",
   "language": "python",
   "name": "python3"
  },
  "language_info": {
   "codemirror_mode": {
    "name": "ipython",
    "version": 3
   },
   "file_extension": ".py",
   "mimetype": "text/x-python",
   "name": "python",
   "nbconvert_exporter": "python",
   "pygments_lexer": "ipython3",
   "version": "3.7.4"
  }
 },
 "nbformat": 4,
 "nbformat_minor": 2
}
