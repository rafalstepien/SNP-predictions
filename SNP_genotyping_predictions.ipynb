{
 "cells": [
  {
   "cell_type": "markdown",
   "metadata": {},
   "source": [
    "# Workflow:\n",
    "\n",
    "1. Problem description, data characteristics, visualisation, distributions, etc.\n",
    "\n",
    "2. Preprocessing:\n",
    "   - missing data (delete, leave, imputation + explaination);\n",
    "   - normalization/standarization (type of transformation + description, transformation categorical data);\n",
    "   - separation - test and training sets (training/test, cross-validation, proportions of subsets);\n",
    "\n",
    "3. Building and training neural network:\n",
    "    - layers, neurons quantity; \n",
    "    - activation functions (+description, last layer should transform to binary output);\n",
    "    - optimalisation method (+description, which one returns best results);\n",
    "    - loss function and metrics (+description);\n",
    "    - model fitting (epochs number, batch size, model evaluation (training result));\n",
    "    - test set based classification (evaluation methods of binary classifier, including data type (should include just and only most desriptive metrics\n",
    "\n",
    "4. Additional methods not presented in labs/lectures.\n",
    "\n",
    "5. Present different parameters values, to decide, which ones caused accuracy and classification improvement."
   ]
  },
  {
   "cell_type": "code",
   "execution_count": 1,
   "metadata": {},
   "outputs": [
    {
     "name": "stderr",
     "output_type": "stream",
     "text": [
      "Using TensorFlow backend.\n"
     ]
    }
   ],
   "source": [
    "import tensorflow as tf\n",
    "import numpy as np\n",
    "import pandas as pd\n",
    "import matplotlib.pyplot as plt\n",
    "import matplotlib as mpl\n",
    "import scipy as sp\n",
    "import keras"
   ]
  },
  {
   "cell_type": "markdown",
   "metadata": {},
   "source": [
    "# Problem description"
   ]
  },
  {
   "cell_type": "markdown",
   "metadata": {},
   "source": [
    "..."
   ]
  },
  {
   "cell_type": "markdown",
   "metadata": {},
   "source": [
    "# Reading data using Pandas"
   ]
  },
  {
   "cell_type": "code",
   "execution_count": 75,
   "metadata": {},
   "outputs": [],
   "source": [
    "data = pd.read_csv(\"logreg.txt\", sep = \";\", dtype={'genotype': np.object})"
   ]
  },
  {
   "cell_type": "markdown",
   "metadata": {},
   "source": [
    "# Data characteristics"
   ]
  },
  {
   "cell_type": "code",
   "execution_count": 76,
   "metadata": {},
   "outputs": [],
   "source": [
    "# data.head()\n",
    "# data.shape\n",
    "# print(data.dtypes)\n",
    "\n",
    "# data.BEFORE1.value_counts()\n",
    "# data.BEFORE2.value_counts()\n",
    "# data.BEFORE3.value_counts()\n",
    "\n",
    "# data.BEHIND1.value_counts()\n",
    "# data.BEHIND2.value_counts()\n",
    "# data.BEHIND3.value_counts()\n",
    "\n",
    "# descriptions_dataframe = data.describe(include='all')\n",
    "# nulls = data.isnull().sum().to_frame(name='NA').T \n",
    "# summary_of_nulls = pd.concat([descriptions_dataframe, nulls])\n",
    "# summary_of_nulls\n",
    "\n",
    "# data.iloc[:,6:].apply(pd.value_counts)"
   ]
  },
  {
   "cell_type": "markdown",
   "metadata": {},
   "source": [
    "# Data visualisation"
   ]
  },
  {
   "cell_type": "code",
   "execution_count": 77,
   "metadata": {},
   "outputs": [],
   "source": [
    "# data.hist()"
   ]
  },
  {
   "cell_type": "markdown",
   "metadata": {},
   "source": [
    "# Distributions"
   ]
  },
  {
   "cell_type": "code",
   "execution_count": null,
   "metadata": {},
   "outputs": [],
   "source": []
  },
  {
   "cell_type": "markdown",
   "metadata": {},
   "source": [
    "# Preprocessing"
   ]
  },
  {
   "cell_type": "code",
   "execution_count": 78,
   "metadata": {},
   "outputs": [
    {
     "data": {
      "text/html": [
       "<div>\n",
       "<style scoped>\n",
       "    .dataframe tbody tr th:only-of-type {\n",
       "        vertical-align: middle;\n",
       "    }\n",
       "\n",
       "    .dataframe tbody tr th {\n",
       "        vertical-align: top;\n",
       "    }\n",
       "\n",
       "    .dataframe thead th {\n",
       "        text-align: right;\n",
       "    }\n",
       "</style>\n",
       "<table border=\"1\" class=\"dataframe\">\n",
       "  <thead>\n",
       "    <tr style=\"text-align: right;\">\n",
       "      <th></th>\n",
       "      <th>genotype</th>\n",
       "      <th>QUAL</th>\n",
       "      <th>DP</th>\n",
       "      <th>DP2</th>\n",
       "      <th>GQ</th>\n",
       "      <th>CALL</th>\n",
       "      <th>BEFORE_AAA</th>\n",
       "      <th>BEFORE_AAC</th>\n",
       "      <th>BEFORE_AAG</th>\n",
       "      <th>BEFORE_AAT</th>\n",
       "      <th>...</th>\n",
       "      <th>BEHIND_TCG</th>\n",
       "      <th>BEHIND_TCT</th>\n",
       "      <th>BEHIND_TGA</th>\n",
       "      <th>BEHIND_TGC</th>\n",
       "      <th>BEHIND_TGG</th>\n",
       "      <th>BEHIND_TGT</th>\n",
       "      <th>BEHIND_TTA</th>\n",
       "      <th>BEHIND_TTC</th>\n",
       "      <th>BEHIND_TTG</th>\n",
       "      <th>BEHIND_TTT</th>\n",
       "    </tr>\n",
       "  </thead>\n",
       "  <tbody>\n",
       "    <tr>\n",
       "      <td>0</td>\n",
       "      <td>1</td>\n",
       "      <td>87093</td>\n",
       "      <td>74</td>\n",
       "      <td>50.0</td>\n",
       "      <td>63.0</td>\n",
       "      <td>3</td>\n",
       "      <td>0</td>\n",
       "      <td>0</td>\n",
       "      <td>0</td>\n",
       "      <td>0</td>\n",
       "      <td>...</td>\n",
       "      <td>0</td>\n",
       "      <td>0</td>\n",
       "      <td>0</td>\n",
       "      <td>0</td>\n",
       "      <td>0</td>\n",
       "      <td>0</td>\n",
       "      <td>0</td>\n",
       "      <td>0</td>\n",
       "      <td>0</td>\n",
       "      <td>0</td>\n",
       "    </tr>\n",
       "    <tr>\n",
       "      <td>1</td>\n",
       "      <td>1</td>\n",
       "      <td>56419</td>\n",
       "      <td>64</td>\n",
       "      <td>9.0</td>\n",
       "      <td>100.0</td>\n",
       "      <td>3</td>\n",
       "      <td>0</td>\n",
       "      <td>0</td>\n",
       "      <td>0</td>\n",
       "      <td>0</td>\n",
       "      <td>...</td>\n",
       "      <td>0</td>\n",
       "      <td>0</td>\n",
       "      <td>0</td>\n",
       "      <td>0</td>\n",
       "      <td>0</td>\n",
       "      <td>0</td>\n",
       "      <td>0</td>\n",
       "      <td>0</td>\n",
       "      <td>0</td>\n",
       "      <td>0</td>\n",
       "    </tr>\n",
       "    <tr>\n",
       "      <td>2</td>\n",
       "      <td>1</td>\n",
       "      <td>40180</td>\n",
       "      <td>68</td>\n",
       "      <td>48.0</td>\n",
       "      <td>NaN</td>\n",
       "      <td>2</td>\n",
       "      <td>0</td>\n",
       "      <td>0</td>\n",
       "      <td>0</td>\n",
       "      <td>0</td>\n",
       "      <td>...</td>\n",
       "      <td>0</td>\n",
       "      <td>0</td>\n",
       "      <td>0</td>\n",
       "      <td>0</td>\n",
       "      <td>0</td>\n",
       "      <td>0</td>\n",
       "      <td>0</td>\n",
       "      <td>0</td>\n",
       "      <td>0</td>\n",
       "      <td>0</td>\n",
       "    </tr>\n",
       "    <tr>\n",
       "      <td>3</td>\n",
       "      <td>1</td>\n",
       "      <td>33677</td>\n",
       "      <td>57</td>\n",
       "      <td>48.0</td>\n",
       "      <td>3.0</td>\n",
       "      <td>3</td>\n",
       "      <td>0</td>\n",
       "      <td>0</td>\n",
       "      <td>0</td>\n",
       "      <td>0</td>\n",
       "      <td>...</td>\n",
       "      <td>0</td>\n",
       "      <td>0</td>\n",
       "      <td>0</td>\n",
       "      <td>0</td>\n",
       "      <td>0</td>\n",
       "      <td>0</td>\n",
       "      <td>0</td>\n",
       "      <td>0</td>\n",
       "      <td>0</td>\n",
       "      <td>0</td>\n",
       "    </tr>\n",
       "    <tr>\n",
       "      <td>4</td>\n",
       "      <td>1</td>\n",
       "      <td>78396</td>\n",
       "      <td>51</td>\n",
       "      <td>50.0</td>\n",
       "      <td>21.0</td>\n",
       "      <td>5</td>\n",
       "      <td>0</td>\n",
       "      <td>0</td>\n",
       "      <td>0</td>\n",
       "      <td>1</td>\n",
       "      <td>...</td>\n",
       "      <td>0</td>\n",
       "      <td>0</td>\n",
       "      <td>0</td>\n",
       "      <td>0</td>\n",
       "      <td>0</td>\n",
       "      <td>0</td>\n",
       "      <td>0</td>\n",
       "      <td>0</td>\n",
       "      <td>0</td>\n",
       "      <td>0</td>\n",
       "    </tr>\n",
       "  </tbody>\n",
       "</table>\n",
       "<p>5 rows × 526 columns</p>\n",
       "</div>"
      ],
      "text/plain": [
       "  genotype   QUAL  DP   DP2     GQ  CALL  BEFORE_AAA  BEFORE_AAC  BEFORE_AAG  \\\n",
       "0        1  87093  74  50.0   63.0     3           0           0           0   \n",
       "1        1  56419  64   9.0  100.0     3           0           0           0   \n",
       "2        1  40180  68  48.0    NaN     2           0           0           0   \n",
       "3        1  33677  57  48.0    3.0     3           0           0           0   \n",
       "4        1  78396  51  50.0   21.0     5           0           0           0   \n",
       "\n",
       "   BEFORE_AAT  ...  BEHIND_TCG  BEHIND_TCT  BEHIND_TGA  BEHIND_TGC  \\\n",
       "0           0  ...           0           0           0           0   \n",
       "1           0  ...           0           0           0           0   \n",
       "2           0  ...           0           0           0           0   \n",
       "3           0  ...           0           0           0           0   \n",
       "4           1  ...           0           0           0           0   \n",
       "\n",
       "   BEHIND_TGG  BEHIND_TGT  BEHIND_TTA  BEHIND_TTC  BEHIND_TTG  BEHIND_TTT  \n",
       "0           0           0           0           0           0           0  \n",
       "1           0           0           0           0           0           0  \n",
       "2           0           0           0           0           0           0  \n",
       "3           0           0           0           0           0           0  \n",
       "4           0           0           0           0           0           0  \n",
       "\n",
       "[5 rows x 526 columns]"
      ]
     },
     "execution_count": 78,
     "metadata": {},
     "output_type": "execute_result"
    }
   ],
   "source": [
    "tmp['BEFORE'] = data.BEFORE1 + data.BEFORE2 + data.BEFORE3\n",
    "tmp['BEHIND'] = data.BEHIND1 + data.BEHIND2 + data.BEHIND3\n",
    "data = data.drop(columns=['BEFORE1', 'BEFORE2', 'BEFORE3', 'BEHIND1', 'BEHIND2', 'BEHIND3'])\n",
    "\n",
    "tmp = pd.get_dummies(tmp)\n",
    "\n",
    "data = pd.concat([data, tmp], axis=1)\n",
    "data.head()"
   ]
  },
  {
   "cell_type": "code",
   "execution_count": null,
   "metadata": {},
   "outputs": [],
   "source": []
  }
 ],
 "metadata": {
  "kernelspec": {
   "display_name": "Python 3",
   "language": "python",
   "name": "python3"
  },
  "language_info": {
   "codemirror_mode": {
    "name": "ipython",
    "version": 3
   },
   "file_extension": ".py",
   "mimetype": "text/x-python",
   "name": "python",
   "nbconvert_exporter": "python",
   "pygments_lexer": "ipython3",
   "version": "3.7.4"
  }
 },
 "nbformat": 4,
 "nbformat_minor": 2
}
